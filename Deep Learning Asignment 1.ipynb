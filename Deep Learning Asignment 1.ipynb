{
 "cells": [
  {
   "cell_type": "code",
   "execution_count": null,
   "metadata": {},
   "outputs": [],
   "source": [
    "1. What is the function of a summation junction of a neuron? What is threshold activation function?\n",
    "Threshold (f): Threshold function which will fire the neuron. Also known as the Activation function. An example of the\n",
    "    activation function is the Step function which says with the output of summation reaches the threshold value defined;\n",
    "    the neuron will fire with the threshold value otherwise will be zero."
   ]
  },
  {
   "cell_type": "code",
   "execution_count": null,
   "metadata": {},
   "outputs": [],
   "source": [
    "What is a step function? What is the difference of step function with threshold function?\n",
    "Step Function is one of the simplest kind of activation functions. In this, we consider a threshold value and if the value of\n",
    "net input say y is greater than the threshold then the neuron is activated."
   ]
  },
  {
   "cell_type": "code",
   "execution_count": null,
   "metadata": {},
   "outputs": [],
   "source": [
    "3. Explain the McCulloch–Pitts model of neuron.\n",
    "The McCulloch-Pitts model was an extremely simple artificial neuron. The inputs could be either a zero or a one. And the output\n",
    "was a zero or a one. And each input could be either excitatory or inhibitory."
   ]
  },
  {
   "cell_type": "code",
   "execution_count": null,
   "metadata": {},
   "outputs": [],
   "source": [
    "Explain the ADALINE network model.\n",
    "The Adaline model compares the actual output with the target output and with the bias and the adjusts all the weights.\n",
    "The Adaline network training algorithm is as follows: Step0: weights and bias are to be set to some random values but not zero.\n",
    "        Set the learning rate parameter α. Step1: perform steps 2-6 when stopping condition is false."
   ]
  },
  {
   "cell_type": "code",
   "execution_count": null,
   "metadata": {},
   "outputs": [],
   "source": [
    "What is the constraint of a simple perceptron? Why it may fail with a real-world data set?\n",
    "The perceptron is a linear classifier, therefore it will never get to the state with all the input vectors classified correctly\n",
    "if the training set D is not linearly separable, i.e. if the positive examples cannot be separated from the negative examples\n",
    "by a hyperplane."
   ]
  },
  {
   "cell_type": "code",
   "execution_count": null,
   "metadata": {},
   "outputs": [],
   "source": [
    "•  Linearly inseparable problems cannot be solved by the simple network , more sophisticated architecture is needed.\n",
    "0 1 n i i i b x w Linear Separability Problem"
   ]
  },
  {
   "cell_type": "code",
   "execution_count": null,
   "metadata": {},
   "outputs": [],
   "source": [
    "Explain XOR problem in case of a simple perceptron.\n",
    "\n",
    "The X-Or problem is a common example of non-linearly separable problems, problems simple perceptrons cannot solve. Usually,\n",
    "BP feed-forward multi-layer perceptrons are used and a common solution involves 2 hidden neurons and 1 output neuron"
   ]
  },
  {
   "cell_type": "code",
   "execution_count": null,
   "metadata": {},
   "outputs": [],
   "source": [
    "8. Design a multi-layer perceptron to implement A XOR B.\n",
    "\n",
    "Designing the Perceptron Network:\n",
    "\n",
    "Step1: Now for the corresponding weight vector $\\boldsymbol{w} : (\\boldsymbol{w_{1}}, \\boldsymbol{w_{2}})$ of the input vector $\\boldsymbol{x} : (\\boldsymbol{x_{1}}, \\boldsymbol{x_{2}})$ to the AND and OR node, the associated Perceptron Function can be defined as:\n",
    "  \\[$\\boldsymbol{\\hat{y}_{1}} = \\Theta\\left(w_{1} x_{1}+w_{2} x_{2}+b_{AND}\\right)$ \\]\n",
    "\n",
    "  \\[$\\boldsymbol{\\hat{y}_{2}} = \\Theta\\left(w_{1} x_{1}+w_{2} x_{2}+b_{OR}\\right)$ \\]\n",
    "\n",
    "Step2: The output ($\\boldsymbol{\\hat{y}}_{1}$) from the AND node will be inputed to the NOT node with weight $\\boldsymbol{w_{NOT}}$ and the associated Perceptron Function can be defined as:\n",
    "  \\[$\\boldsymbol{\\hat{y}_{3}} = \\Theta\\left(w_{NOT}  \\boldsymbol{\\hat{y}_{1}}+b_{NOT}\\right)$\\]\n",
    "\n",
    "Step3: The output ($\\boldsymbol{\\hat{y}}_{2}$) from the OR node and the output ($\\boldsymbol{\\hat{y}}_{3}$) from NOT node as mentioned in Step2 will be inputed to the AND node with weight $(\\boldsymbol{w_{AND1}}, \\boldsymbol{w_{AND2}})$. Then the corresponding output $\\boldsymbol{\\hat{y}}$ is the final output of the XOR logic function. The associated Perceptron Function can be defined as:"
   ]
  },
  {
   "cell_type": "code",
   "execution_count": null,
   "metadata": {},
   "outputs": [],
   "source": [
    "Explain the single-layer feed forward architecture of ANN.\n",
    "\n",
    "A. Single-layer Feed Forward Network: It is the simplest and most basic architecture of ANN’s. It consists of only two layers- the input layer and the output layer. The input layer consists of ‘m’ input neurons connected to each of the ‘n’ output neurons."
   ]
  },
  {
   "cell_type": "code",
   "execution_count": null,
   "metadata": {},
   "outputs": [],
   "source": [
    "Explain the competitive network architecture of ANN.\n",
    "These kinds of networks are based on the competitive learning rule and will use the strategy where it chooses the neuron with the greatest total inputs as a winner. The connections between the output neurons show the competition between them and one of them would be ‘ON’ which means it would be the winner and others would be ‘OFF’. Following are some of the networks based on this simple concept using unsupervised learning."
   ]
  },
  {
   "cell_type": "code",
   "execution_count": null,
   "metadata": {},
   "outputs": [],
   "source": [
    "What are the advantages and disadvantages of neural networks?\n",
    "Neural Networks: Advantages and Applications\n",
    "\n",
    "Types of Neural Networks: The Neural Networks are divided into types based on the number of hidden layers they contain or how deep the network goes.\n",
    "Advantages of Neural Networks: Neural Networks have the ability to learn by themselves and produce the output that is not limited to the input provided to them.\n",
    "Applications of Neural Networks: The Artificial Neural Network has been in existence from 1943, when it was initially designed, but has only recently come into light under Artificial Intelligence"
   ]
  },
  {
   "cell_type": "code",
   "execution_count": null,
   "metadata": {},
   "outputs": [],
   "source": [
    " it makes sense to know a bit about biological neural networks as well. You brain is a neural network. One really really complex neural network. It has 10 11 neurons. And each of these neurons is connected to approximately 10 4 other neurons. These interconnected neurons use electrical pulses to \"communicate\" with each other."
   ]
  },
  {
   "cell_type": "code",
   "execution_count": null,
   "metadata": {},
   "outputs": [],
   "source": [
    "A. Single-layer Feed Forward Network: It is the simplest and most basic architecture of ANN’s. It consists of only two layers- the input layer and the output layer. The input layer consists of ‘m’ input neurons connected to each of the ‘n’ output neurons."
   ]
  },
  {
   "cell_type": "code",
   "execution_count": null,
   "metadata": {},
   "outputs": [],
   "source": [
    "Types of Recurrent Neural Networks \n",
    "\n",
    "One to One RNN. This type of neural network is known as the Vanilla Neural Network. It's used for general machine...\n",
    "One to Many RNN. This type of neural network has a single input and multiple outputs. An example of this is the image...\n",
    "Many to One RNN. This RNN takes a sequence of inputs and generates a single output. Sentiment analysis is a good example...\n",
    "Many to Many RNN. This RNN takes a sequence of inputs and generates a sequence of outputs. "
   ]
  },
  {
   "cell_type": "code",
   "execution_count": null,
   "metadata": {},
   "outputs": [],
   "source": []
  },
  {
   "cell_type": "code",
   "execution_count": null,
   "metadata": {},
   "outputs": [],
   "source": []
  },
  {
   "cell_type": "code",
   "execution_count": null,
   "metadata": {},
   "outputs": [],
   "source": []
  },
  {
   "cell_type": "code",
   "execution_count": null,
   "metadata": {},
   "outputs": [],
   "source": []
  }
 ],
 "metadata": {
  "kernelspec": {
   "display_name": "Python 3",
   "language": "python",
   "name": "python3"
  },
  "language_info": {
   "codemirror_mode": {
    "name": "ipython",
    "version": 3
   },
   "file_extension": ".py",
   "mimetype": "text/x-python",
   "name": "python",
   "nbconvert_exporter": "python",
   "pygments_lexer": "ipython3",
   "version": "3.8.5"
  }
 },
 "nbformat": 4,
 "nbformat_minor": 5
}
