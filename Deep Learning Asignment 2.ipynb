{
 "cells": [
  {
   "cell_type": "code",
   "execution_count": null,
   "id": "66200b36",
   "metadata": {},
   "outputs": [],
   "source": [
    "An Artificial Neural Network consists of highly interconnected processing elements called nodes or neurons. These neurons work in parallel and are organized in an architecture. The nodes are connected to each other by connection links. Each neuron carries a weight that contains information about the input signal."
   ]
  },
  {
   "cell_type": "code",
   "execution_count": null,
   "id": "fb9a9c6a",
   "metadata": {},
   "outputs": [],
   "source": [
    "What are the different types of activation functions popularly used? Explain each of them.\n",
    ". Identity Function: Identity function is used as an activation function for the input layer. As obvious, the output remains the same as the input.\n",
    "B. Threshold/step Function: It is a commonly used activation function. As depicted in the diagram, it gives 1 as output of the input is either 0 or positive.\n",
    "C. ReLU (Rectified Linear Unit) Function: It is the most popularly used activation function in the areas of convolutional neural networks and deep learning.\n",
    "D. Sigmoid Function: It is by far the most commonly used activation function in neural networks. ...\n",
    "1. Binary Sigmoid Function. It has a range of (0,1)."
   ]
  },
  {
   "cell_type": "code",
   "execution_count": null,
   "id": "a7eb67b9",
   "metadata": {},
   "outputs": [],
   "source": [
    "The Rosenblatt’s Perceptron (1957) The classic model. The Rosenblatt’s Perceptron was designed to overcome most issues of the McCulloch-Pitts neuron : it can process non-boolean inputs; and it can assign different weights to each input automatically; the threshold \\(\\theta\\) is computed automatically; A perceptron is a single layer Neural Network."
   ]
  },
  {
   "cell_type": "code",
   "execution_count": null,
   "id": "5426c690",
   "metadata": {},
   "outputs": [],
   "source": [
    "Multilayer perceptrons are sometimes colloquially referred to as \"vanilla\" neural networks, especially when they have a single hidden layer. An MLP consists of at least three layers of nodes: an input layer, a hidden layer and an output layer. Except for the input nodes, each node is a neuron that uses a nonlinear activation function"
   ]
  },
  {
   "cell_type": "code",
   "execution_count": null,
   "id": "68df59ba",
   "metadata": {},
   "outputs": [],
   "source": [
    "In information technology (IT), an artificial neural network (ANN) is a system of hardware and/or software patterned after the operation of neurons in the human brain. ANNs -- also called, simply, neural networks -- are a variety of deep learning technology, which also falls under the umbrella of artificial intelligence, or AI."
   ]
  },
  {
   "cell_type": "code",
   "execution_count": null,
   "id": "28c568f3",
   "metadata": {},
   "outputs": [],
   "source": [
    "Being a complex adaptive system, learning in ANN implies that a processing unit is capable of changing its input/output behavior due to the change in environment. The importance of learning in ANN increases because of the fixed activation function as well as the input/output vector, when a particular network is constructed."
   ]
  },
  {
   "cell_type": "code",
   "execution_count": null,
   "id": "8a1c6f94",
   "metadata": {},
   "outputs": [],
   "source": [
    "The algorithm is used to effectively train a neural network through a method called chain rule. In simple terms, after each forward pass through a network, backpropagation performs a backward pass while adjusting the model’s parameters (weights and biases)."
   ]
  },
  {
   "cell_type": "code",
   "execution_count": null,
   "id": "1cfae1e2",
   "metadata": {},
   "outputs": [],
   "source": [
    "Architectures of Neural Network: \n",
    "ANN is a computational system consisting of many interconnected units called artificial neurons. The connection between artificial neurons can transmit a signal from one neuron to another. So, there are multiple possibilities for connecting the neurons based on which the architecture we are going to adopt for a specific solution. Some permutations and combinations are as follows: \n",
    "    There may be just two layers of neuron in the network – the input and output layer.\n",
    "There can be one or more intermediate ‘hidden’ layers of a neuron.\n",
    "The neurons may be connected with all neurons in the next layer and so on …..\n",
    "So let’s start talking about the various possible architectures:"
   ]
  },
  {
   "cell_type": "code",
   "execution_count": null,
   "id": "73e4848e",
   "metadata": {},
   "outputs": [],
   "source": [
    "An artificial neuron is a mathematical function conceived as a model of biological neurons, a neural network. Artificial neurons are elementary units in an artificial neural network. The artificial neuron receives one or more inputs (representing excitatory postsynaptic potentials and inhibitory postsynaptic potentials at neural dendrites) and sums them to produce an output (or activation, representing a neuron's action potential which is transmitted along its axon)"
   ]
  },
  {
   "cell_type": "code",
   "execution_count": null,
   "id": "cae39291",
   "metadata": {},
   "outputs": [],
   "source": [
    "Cost Function. A cost function is a measure of the error in prediction committed by an algorithm. It indicates the...\n",
    "Gradient Descent Method. Gradient descent is the popular optimization algorithm used in machine learning to estimate the...\n",
    "Learning rate. In machine learning, we deal with two types of parameters; 1) machine learnable parameters and 2)...\n",
    "Effect of different values for learning rate. Learning rate is used to scale the magnitude of parameter updates during."
   ]
  },
  {
   "cell_type": "code",
   "execution_count": null,
   "id": "656b0c2e",
   "metadata": {},
   "outputs": [],
   "source": [
    "t seems that the transfer function calculates the net while the activation function the output of the neuron. But on Matlab documentation of an activation functionI quote: satlin(N, FP) is a neural transferfunction. Transfer functions calculate a layer's output from its net input."
   ]
  },
  {
   "cell_type": "code",
   "execution_count": null,
   "id": "98b27b54",
   "metadata": {},
   "outputs": [],
   "source": [
    "Single Layer Perceptron has just two layers of input and output. It only has single layer hence the name single layer perceptron. It does not contain Hidden Layers as that of Multilayer perceptron. Input nodes are connected fully to a node or multiple nodes in the next layer."
   ]
  },
  {
   "cell_type": "code",
   "execution_count": null,
   "id": "ac4b2a99",
   "metadata": {},
   "outputs": [],
   "source": []
  },
  {
   "cell_type": "code",
   "execution_count": null,
   "id": "4d90e242",
   "metadata": {},
   "outputs": [],
   "source": []
  },
  {
   "cell_type": "code",
   "execution_count": null,
   "id": "7a0f584d",
   "metadata": {},
   "outputs": [],
   "source": []
  }
 ],
 "metadata": {
  "kernelspec": {
   "display_name": "Python 3",
   "language": "python",
   "name": "python3"
  },
  "language_info": {
   "codemirror_mode": {
    "name": "ipython",
    "version": 3
   },
   "file_extension": ".py",
   "mimetype": "text/x-python",
   "name": "python",
   "nbconvert_exporter": "python",
   "pygments_lexer": "ipython3",
   "version": "3.8.8"
  }
 },
 "nbformat": 4,
 "nbformat_minor": 5
}
