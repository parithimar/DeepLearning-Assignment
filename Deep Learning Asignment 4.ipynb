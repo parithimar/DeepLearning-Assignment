{
 "cells": [
  {
   "cell_type": "code",
   "execution_count": null,
   "id": "b090b0da",
   "metadata": {},
   "outputs": [],
   "source": [
    "1. How would you describe TensorFlow in a short sentence? What are its main features? Can you name other popular Deep Learning libraries?\n",
    "\n",
    "TensorFlow is an open-source end-to-end platform for creating Machine Learning applications. It is a symbolic math library that uses dataflow and differentiable programming to perform various tasks focused on training and inference of deep neural networks. It allows developers to create machine learning applications using various tools, libraries, and community resources.\n",
    "\n",
    "Currently, the most famous deep learning library in the world is Google’s TensorFlow. Google product uses machine learning in all of its products to improve the search engine, translation, image captioning or recommendations."
   ]
  },
  {
   "cell_type": "code",
   "execution_count": null,
   "id": "7fff6432",
   "metadata": {},
   "outputs": [],
   "source": [
    "Is TensorFlow a drop-in replacement for NumPy? What are the main differences between the two?\n",
    "Numpy is a computing package for Linear Algebra. TensorFlow is a library for Deep Learning. When you want to write a code in TensorFlow, you deal with vectors, matrices, and basically Linear Algebra. Then you cannot scape using Numpy. Otherwise, there are not correlated except Numpy might be used in the TensorFlow source code."
   ]
  },
  {
   "cell_type": "code",
   "execution_count": null,
   "id": "8b886ba4",
   "metadata": {},
   "outputs": [],
   "source": [
    "Can you name six other data structures available in TensorFlow, beyond regular tensors?\n",
    "We will begin by understanding the data structure of tensor. Tensors are used as the basic data structures in TensorFlow language. Tensors represent the connecting edges in any flow diagram called the Data Flow Graph. Tensors are defined as multidimensional array or list."
   ]
  },
  {
   "cell_type": "code",
   "execution_count": null,
   "id": "94f84cfd",
   "metadata": {},
   "outputs": [],
   "source": [
    "A custom loss function can be defined by writing a function or by subclassing the keras.losses.Loss class. When would you use each option?\n",
    "A loss function is one of the two arguments required for compiling a Keras model: All built-in loss functions may also be passed via their string identifier: Loss functions are typically created by instantiating a loss class (e.g. keras.losses.SparseCategoricalCrossentropy )."
   ]
  },
  {
   "cell_type": "code",
   "execution_count": null,
   "id": "ce8cb2e8",
   "metadata": {},
   "outputs": [],
   "source": [
    "Similarly, a custom metric can be defined in a function or a subclass of keras.metrics.Metric. When would you use each option?\n",
    "In the case of metrics for the validation dataset, the “ val_ ” prefix is added to the key. Both loss functions and explicitly defined Keras metrics can be used as training metrics. Below is a list of the metrics that you can use in Keras on regression problems."
   ]
  },
  {
   "cell_type": "code",
   "execution_count": null,
   "id": "e23cf304",
   "metadata": {},
   "outputs": [],
   "source": [
    "When should you create a custom layer versus a custom model?\n",
    "\n",
    "Since we are using Custom Layers to build the Model and before Saving it, we should use Custom Objects while Loading it. Correction number 2 is to add **kwargs in the __init__ function of the Custom Layer like"
   ]
  },
  {
   "cell_type": "code",
   "execution_count": null,
   "id": "27e0441f",
   "metadata": {},
   "outputs": [],
   "source": [
    "What are some use cases that require writing your own custom training loop?\n",
    "Keras provides default training and evaluation loops, fit() and evaluate().Their usage is covered in the guideTraining & evaluation with the built-in methods. If you want to customize the learning algorithm of your model while still leveragingthe convenience of fit()(for instance, to train a GAN using fit()), you can subclass the Model class andimplement your own train_step() method, whichis called repeatedly during fit(). "
   ]
  },
  {
   "cell_type": "code",
   "execution_count": null,
   "id": "3257f4a3",
   "metadata": {},
   "outputs": [],
   "source": [
    "Can custom Keras components contain arbitrary Python code, or must they be convertible to\n",
    "TF Functions?\n",
    "\n",
    "Model can be defined using model = Model (inputs= [...], outputs= [...]) . Subclassing API — Another advance API where you define a Model as a Python class. Here you define the forward pass of the model in the class and Keras automatically compute the backward pass."
   ]
  },
  {
   "cell_type": "code",
   "execution_count": null,
   "id": "1e09f397",
   "metadata": {},
   "outputs": [],
   "source": [
    "An external tf.Variable since the function creates a state and from part 1 we know how to deal with it. Use tf.range instead of range since tf.range exists and therefore it is just better to use it. The value of the x variable is 10, as expected."
   ]
  },
  {
   "cell_type": "code",
   "execution_count": null,
   "id": "292d34fc",
   "metadata": {},
   "outputs": [],
   "source": [
    "11. When would you need to create a dynamic Keras model?\n",
    "ou can also create a Sequential model incrementally via the add () method: Note that there's also a corresponding pop () method to remove layers: a Sequential model behaves very much like a list of layers. Also note that the Sequential constructor accepts a name argument, just like any layer or model in Keras."
   ]
  },
  {
   "cell_type": "code",
   "execution_count": null,
   "id": "ed171782",
   "metadata": {},
   "outputs": [],
   "source": []
  },
  {
   "cell_type": "code",
   "execution_count": null,
   "id": "51e7a21d",
   "metadata": {},
   "outputs": [],
   "source": []
  },
  {
   "cell_type": "code",
   "execution_count": null,
   "id": "9d72a9db",
   "metadata": {},
   "outputs": [],
   "source": []
  },
  {
   "cell_type": "code",
   "execution_count": null,
   "id": "543b378a",
   "metadata": {},
   "outputs": [],
   "source": []
  }
 ],
 "metadata": {
  "kernelspec": {
   "display_name": "Python 3",
   "language": "python",
   "name": "python3"
  },
  "language_info": {
   "codemirror_mode": {
    "name": "ipython",
    "version": 3
   },
   "file_extension": ".py",
   "mimetype": "text/x-python",
   "name": "python",
   "nbconvert_exporter": "python",
   "pygments_lexer": "ipython3",
   "version": "3.8.8"
  }
 },
 "nbformat": 4,
 "nbformat_minor": 5
}
