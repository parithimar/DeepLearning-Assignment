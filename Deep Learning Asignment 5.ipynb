{
 "cells": [
  {
   "cell_type": "code",
   "execution_count": null,
   "id": "2ccf85a6",
   "metadata": {},
   "outputs": [],
   "source": [
    "Why would you want to use the Data API?\n",
    "APIs are built as an attempt to free the data from the clutches of these web interfaces, but come with their own set of challenges. CRM companies these days all seem to promise that they have an “easy to use API” and that their customers can use this API to fetch and process the data collected by the CRM."
   ]
  },
  {
   "cell_type": "code",
   "execution_count": null,
   "id": "8bf0b89f",
   "metadata": {},
   "outputs": [],
   "source": [
    "What are the benefits of splitting a large dataset into multiple files?\n",
    "Splitting a data set creates more files, which occupy more disk space and forces more I/O operations. I/O and disk access is often the most expensive part of your SAS processing, performance-wise. But if the boss asks for broken-up data sets, you might as well spend the least possible effort on the task."
   ]
  },
  {
   "cell_type": "code",
   "execution_count": null,
   "id": "80d33348",
   "metadata": {},
   "outputs": [],
   "source": [
    "During training, how can you tell that your input pipeline is the bottleneck?\n",
    "A CPU bottleneck occurs when the GPU resource is under utilized as a result of one, or more of the CPUs, having reached maximum utilization. In this situation, the GPU will be partially idle while it waits for the CPU to pass in training data. This is an undesired state. Being that the GPU is, typically, the most expensive resource in the system, your goal should always be to maximize its utilization. "
   ]
  },
  {
   "cell_type": "code",
   "execution_count": null,
   "id": "1d1e2cb1",
   "metadata": {},
   "outputs": [],
   "source": [
    "Can you save any binary data to a TFRecord file, or only serialized protocol buffers?\n",
    "The TFRecord format is a simple format for storing a sequence of binary records. Protocol buffers are a cross-platform, cross-language library for efficient serialization of structured data. Protocol messages are defined by .proto files, these are often the easiest way to understand a message type."
   ]
  },
  {
   "cell_type": "code",
   "execution_count": null,
   "id": "2d9e98bd",
   "metadata": {},
   "outputs": [],
   "source": [
    "Why would you go through the hassle of converting all your data to the Example protobuf\n",
    "format?\n",
    "\n",
    "Google also provides a protocol buffer compiler to generate source code from .proto file in Java programming language and an API to read and write messages on protobuf object. You don't need to bother about any encoding, decoding detail, all you have to specify is your data-structure, in a Java, like format."
   ]
  },
  {
   "cell_type": "code",
   "execution_count": null,
   "id": "3403f701",
   "metadata": {},
   "outputs": [],
   "source": [
    "When using TFRecords, when would you want to activate compression?\n",
    "\n",
    "A TFRecord is when a sequence of such records serializes to binary. The binary format takes less memory for storage in comparison to any other data formats. That’s what I’m going to do now. I will convert all the records of a dataset to TFRecords which can be serialized into binary and can be written in a file. Tensorflow says that,"
   ]
  },
  {
   "cell_type": "code",
   "execution_count": null,
   "id": "1e9b4056",
   "metadata": {},
   "outputs": [],
   "source": [
    "Data can be preprocessed directly when writing the data files, or within the tf.data pipeline,\n",
    "or in preprocessing layers within your model, or using TF Transform. Can you list a few pros\n",
    "and cons of each option?"
   ]
  },
  {
   "cell_type": "code",
   "execution_count": null,
   "id": "157e0fc1",
   "metadata": {},
   "outputs": [],
   "source": []
  }
 ],
 "metadata": {
  "kernelspec": {
   "display_name": "Python 3",
   "language": "python",
   "name": "python3"
  },
  "language_info": {
   "codemirror_mode": {
    "name": "ipython",
    "version": 3
   },
   "file_extension": ".py",
   "mimetype": "text/x-python",
   "name": "python",
   "nbconvert_exporter": "python",
   "pygments_lexer": "ipython3",
   "version": "3.8.8"
  }
 },
 "nbformat": 4,
 "nbformat_minor": 5
}
