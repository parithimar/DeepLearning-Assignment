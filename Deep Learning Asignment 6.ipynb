{
 "cells": [
  {
   "cell_type": "code",
   "execution_count": null,
   "id": "2e92aaa3",
   "metadata": {},
   "outputs": [],
   "source": [
    "What are the advantages of a CNN over a fully connected DNN for image classification?\n",
    "The fully-connected network does not have a hidden layer (logistic regression)\n",
    "Original image was normalized to have pixel values between 0 and 1 or scaled to have mean = 0 and variance = 1\n",
    "Sigmoid/tanh activation is used between input and convolved image, although the argument works for other non-linear activation functions such as ReLU. ReLU is avoided because it breaks the rigor of the analysis if the images are scaled (mean = 0, variance = 1) instead of normalized\n",
    "Number of channels = depth of image = 1 for most of the article, model with higher number of channels will be discussed briefly\n",
    "The problem involves a classification task. Therefore, C > 1\n",
    "There are no non-linearities other than the activation and no non-differentiability (like pooling, strides other than 1, padding, etc.)\n",
    "Negative log likelihood loss function is used to train both networks"
   ]
  },
  {
   "cell_type": "code",
   "execution_count": null,
   "id": "39b187d3",
   "metadata": {},
   "outputs": [],
   "source": [
    "If your GPU runs out of memory while training a CNN, what are five things you could try to\n",
    "solve the problem?\n",
    "\n",
    "If your GPU is running low on memory while training a CNN, here are five things you can try to fix the problem (other than buying a GPU with more RAM): Reduce the size of the mini-lot. Reduce dimensionality by using a larger stride in one or more layers. Remove one or more layers."
   ]
  },
  {
   "cell_type": "code",
   "execution_count": null,
   "id": "fb2dd00d",
   "metadata": {},
   "outputs": [],
   "source": [
    "Why would you want to add a max pooling layer rather than a convolutional layer with the\n",
    "same stride?\n",
    "\n",
    " essence, max-pooling (or any kind of pooling) is a fixed operation and replacing it with a strided convolution can also be seen as learning the pooling operation, which increases the model's expressiveness ability. The down side is that it also increases the number of trainable parameters, but this is not a real problem in our days."
   ]
  },
  {
   "cell_type": "code",
   "execution_count": null,
   "id": "e9be37f3",
   "metadata": {},
   "outputs": [],
   "source": [
    "When would you want to add a local response normalization layer?\n",
    "\n",
    "Normalization has always been an active area of research in deep learning. Normalization techniques can decrease your model’s training time by a huge factor. Let me state some of the benefits of using Normalization. 1. It normalizes each feature so that they maintains the contribution of every feature, as some feature has higher numerical value than others. This way our network can be unbiased(to higher value features). "
   ]
  },
  {
   "cell_type": "code",
   "execution_count": null,
   "id": "b78642fd",
   "metadata": {},
   "outputs": [],
   "source": [
    "Can you name the main innovations in AlexNet, compared to LeNet-5?\n",
    "The main innovations in AlexNet compared to LeNet-5 are (1) it is much larger and deeper, and (2) it stacks convolutional layers directly on top of each other, instead of stacking a pooling layer on top of each convolutional layer.\n",
    "The main innovation in GoogLeNet is the introduction of inception modules, which make it possible to have a much deeper net than previous CNN architectures, with fewer parameters.\n",
    "Finally, ResNet's main innovation is the introduction of skip connections, which make it possible to go well beyond 100 layers. Arguably, its simplicity and consistency are also rather innovative."
   ]
  },
  {
   "cell_type": "code",
   "execution_count": null,
   "id": "6163de57",
   "metadata": {},
   "outputs": [],
   "source": [
    "What is a fully convolutional network?\n",
    "\n",
    "A fully convolution network (FCN)is a neural network that only performs convolution (and subsampling or upsampling) operations. Equivalently, an FCN is a CNN without fully connected layers."
   ]
  },
  {
   "cell_type": "code",
   "execution_count": null,
   "id": "a233158c",
   "metadata": {},
   "outputs": [],
   "source": [
    "What is the main technical difficulty of semantic segmentation?\n",
    "Recently, an emerging trend in medical image classification is to combine radiomics framework with deep learning classification network in an integrated system. Although this combination is efficient in some tasks, the deep learning-based classification network is often difficult to capture an effective representation of lesion regions, and prone to face the challenge of overfitting, leading to unreliable features and inaccurate results, especially when the sizes of the lesions are small or the training"
   ]
  },
  {
   "cell_type": "code",
   "execution_count": null,
   "id": "34cc3209",
   "metadata": {},
   "outputs": [],
   "source": [
    "Build your own CNN from scratch and try to achieve the highest possible accuracy on MNIST.\n",
    "\n",
    "Congratulations you have learned how to make a dataset of your own and create a CNN model or perform Transfer learning to solving a problem. We learned a great deal in this article, from learning to find image data to create a simple CNN model that was able to achieve reasonable performance"
   ]
  },
  {
   "cell_type": "code",
   "execution_count": null,
   "id": "c564c4dd",
   "metadata": {},
   "outputs": [],
   "source": []
  },
  {
   "cell_type": "code",
   "execution_count": null,
   "id": "b32edc16",
   "metadata": {},
   "outputs": [],
   "source": []
  },
  {
   "cell_type": "code",
   "execution_count": null,
   "id": "b5ddaa5e",
   "metadata": {},
   "outputs": [],
   "source": []
  },
  {
   "cell_type": "code",
   "execution_count": null,
   "id": "109d96ef",
   "metadata": {},
   "outputs": [],
   "source": []
  },
  {
   "cell_type": "code",
   "execution_count": null,
   "id": "7db355b4",
   "metadata": {},
   "outputs": [],
   "source": []
  },
  {
   "cell_type": "code",
   "execution_count": null,
   "id": "1d9bfafb",
   "metadata": {},
   "outputs": [],
   "source": []
  }
 ],
 "metadata": {
  "kernelspec": {
   "display_name": "Python 3",
   "language": "python",
   "name": "python3"
  },
  "language_info": {
   "codemirror_mode": {
    "name": "ipython",
    "version": 3
   },
   "file_extension": ".py",
   "mimetype": "text/x-python",
   "name": "python",
   "nbconvert_exporter": "python",
   "pygments_lexer": "ipython3",
   "version": "3.8.8"
  }
 },
 "nbformat": 4,
 "nbformat_minor": 5
}
