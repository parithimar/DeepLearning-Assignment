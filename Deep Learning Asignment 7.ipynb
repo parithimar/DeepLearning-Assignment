{
 "cells": [
  {
   "cell_type": "code",
   "execution_count": null,
   "id": "246a6f0b",
   "metadata": {},
   "outputs": [],
   "source": [
    "Can you think of a few applications for a sequence-to-sequence RNN?\n",
    "Sequence models are the machine learning models that input or output sequences of data. Sequential data includes text streams, audio clips, video clips, time-series data and etc. Recurrent Neural Networks (RNNs) is a popular algorithm used in sequence models. Applications of Sequence Models 1. Speech recognition:In speech recognition, an audio clip is given as an input and then the model has to generate its text transcript."
   ]
  },
  {
   "cell_type": "code",
   "execution_count": null,
   "id": "a32fb7e7",
   "metadata": {},
   "outputs": [],
   "source": [
    "How many dimensions must the inputs of an RNN layer have?\n",
    "Before we get down to business, an important thing to note is that the RNN input needs to have 3 dimensions. Typically it would be batch size, the number of steps and number of features. The number of steps depicts the number of time steps/segments you will be feeding in one line of input of a batch of data that will be fed into the RNN."
   ]
  },
  {
   "cell_type": "code",
   "execution_count": null,
   "id": "e979ce64",
   "metadata": {},
   "outputs": [],
   "source": [
    "If you want to build a deep sequence-to-sequence RNN, which RNN layers should have return_sequences=True? What about a sequence-to-vector RNN?\n",
    "\n",
    "Multi-output regression involves predicting two or more numerical variables.\n",
    "\n",
    "Unlike normal regression where a single value is predicted for each sample, multi-output regression requires specialized machine learning algorithms that support outputting multiple variables for each prediction.\n",
    "\n",
    "Deep learning neural networks are an example of an algorithm that natively supports multi-output regression problems. Neural network models for multi-output regression tasks can be easily defined and evaluated using the Keras deep learning library.\n",
    "\n",
    "In this tutorial, you will discover how to develop deep learning models for multi-output regression.\n",
    "\n",
    "After completing this tutorial, you will know:\n",
    "\n",
    "Multi-output regression is a predictive modeling task that involves two or more numerical output variables.\n",
    "Neural network models can be configured for multi-output regression tasks.\n",
    "How to evaluate a neural network for multi-output regression and make a prediction for new data."
   ]
  },
  {
   "cell_type": "code",
   "execution_count": null,
   "id": "1b8934a0",
   "metadata": {},
   "outputs": [],
   "source": [
    "Suppose you have a daily univariate time series, and you want to forecast the next seven\n",
    "days. Which RNN architecture should you use?\n",
    "\n",
    "Time series forecasting is difficult. Unlike the simpler problems of classification and regression, time series problems add the complexity of order or temporal dependence between observations. This can be difficult as the specialized handling of the data is required when fitting and evaluating models."
   ]
  },
  {
   "cell_type": "code",
   "execution_count": null,
   "id": "a41d029d",
   "metadata": {},
   "outputs": [],
   "source": [
    "What are the main difficulties when training RNNs? How can you handle them?\n",
    "\n",
    "The number one problem when it comes to parallelizing the trainings in RNN or a simple stack up of training is due to the fundamental characteristic of RNN, i.e., they are connected. What this means is RNNs require the output of the previous node to do the computation over the present node. Due to this connection, RNNs are not suitable for parallelizing or stacking up with other models"
   ]
  },
  {
   "cell_type": "code",
   "execution_count": null,
   "id": "b7683960",
   "metadata": {},
   "outputs": [],
   "source": [
    "LSTMs deal with both Long Term Memory (LTM) and Short Term Memory (STM) and for making the calculations simple and effective it uses the concept of gates.\n",
    "\n",
    "Forget Gate: LTM goes to forget gate and it forgets information that is not useful.\n",
    "Learn Gate: Event ( current input ) and STM are combined together so that necessary information that we have recently learned from STM can be applied to the current input.\n",
    "Remember Gate: LTM information that we haven’t forget and STM and Event are combined together in Remember gate which works as updated LTM.\n",
    "Use Gate: This gate also uses LTM, STM, and Event to predict the output of the current event which works as an updated STM."
   ]
  },
  {
   "cell_type": "code",
   "execution_count": null,
   "id": "1a6e9d9e",
   "metadata": {},
   "outputs": [],
   "source": [
    "Why would you want to use 1D convolutional layers in an RNN?\n",
    "This post is divided into five sections; they are: 1. What Neural Networks to Focus on? 2. When to Use Multilayer Perceptrons? 3. When to Use Convolutional Neural Networks? 4. When to Use Recurrent Neural Networks? 5. Hybrid Network Models"
   ]
  },
  {
   "cell_type": "code",
   "execution_count": null,
   "id": "460ce94c",
   "metadata": {},
   "outputs": [],
   "source": [
    "Which neural network architecture could you use to classify videos?\n",
    "Deep learning is a field that uses artificial neural networks very frequently. One common application is convolutional neural networks, which are used to classify images, video, text, or sound. Neural networks that operate on two or three layers of connected neuron layers are known as shallow neural networks."
   ]
  },
  {
   "cell_type": "code",
   "execution_count": null,
   "id": "7885a554",
   "metadata": {},
   "outputs": [],
   "source": [
    "Train a classification model for the SketchRNN dataset, available in TensorFlow Datasets.\n",
    "Notebook contains the code for image classification using TensorFlow. Notebook. From the next section onward, we will focus on the coding section of the tutorial. Let’s start with the coding part of the tutorial without any further delay. All of the code from here onward will go into the"
   ]
  },
  {
   "cell_type": "code",
   "execution_count": null,
   "id": "4fa10314",
   "metadata": {},
   "outputs": [],
   "source": []
  }
 ],
 "metadata": {
  "kernelspec": {
   "display_name": "Python 3",
   "language": "python",
   "name": "python3"
  },
  "language_info": {
   "codemirror_mode": {
    "name": "ipython",
    "version": 3
   },
   "file_extension": ".py",
   "mimetype": "text/x-python",
   "name": "python",
   "nbconvert_exporter": "python",
   "pygments_lexer": "ipython3",
   "version": "3.8.8"
  }
 },
 "nbformat": 4,
 "nbformat_minor": 5
}
